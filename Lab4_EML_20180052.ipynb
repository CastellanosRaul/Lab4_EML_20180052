{
 "cells": [
  {
   "cell_type": "markdown",
   "id": "subsequent-clause",
   "metadata": {},
   "source": [
    "# Elements of Machine Learning, Hoja de Trabajo 4: Regresión Polinomial\n",
    "## Raul Castellanos 20180052"
   ]
  },
  {
   "cell_type": "markdown",
   "id": "threatened-demand",
   "metadata": {},
   "source": [
    "# Dataset de Kaggle: King Country House Prices\n",
    "Link to kc_house_data: https://www.kaggle.com/shivachandel/kc-house-data"
   ]
  },
  {
   "cell_type": "markdown",
   "id": "logical-donna",
   "metadata": {},
   "source": [
    "### Libraries"
   ]
  },
  {
   "cell_type": "code",
   "execution_count": 30,
   "id": "organic-april",
   "metadata": {},
   "outputs": [],
   "source": [
    "import pandas as pd \n",
    "import numpy as np \n",
    "import matplotlib.pyplot as plt"
   ]
  },
  {
   "cell_type": "markdown",
   "id": "compressed-victorian",
   "metadata": {},
   "source": [
    "### Loading the dataset"
   ]
  },
  {
   "cell_type": "code",
   "execution_count": 31,
   "id": "sudden-penalty",
   "metadata": {},
   "outputs": [
    {
     "data": {
      "text/html": [
       "<div>\n",
       "<style scoped>\n",
       "    .dataframe tbody tr th:only-of-type {\n",
       "        vertical-align: middle;\n",
       "    }\n",
       "\n",
       "    .dataframe tbody tr th {\n",
       "        vertical-align: top;\n",
       "    }\n",
       "\n",
       "    .dataframe thead th {\n",
       "        text-align: right;\n",
       "    }\n",
       "</style>\n",
       "<table border=\"1\" class=\"dataframe\">\n",
       "  <thead>\n",
       "    <tr style=\"text-align: right;\">\n",
       "      <th></th>\n",
       "      <th>id</th>\n",
       "      <th>date</th>\n",
       "      <th>price</th>\n",
       "      <th>bedrooms</th>\n",
       "      <th>bathrooms</th>\n",
       "      <th>sqft_living</th>\n",
       "      <th>sqft_lot</th>\n",
       "      <th>floors</th>\n",
       "      <th>waterfront</th>\n",
       "      <th>view</th>\n",
       "      <th>...</th>\n",
       "      <th>grade</th>\n",
       "      <th>sqft_above</th>\n",
       "      <th>sqft_basement</th>\n",
       "      <th>yr_built</th>\n",
       "      <th>yr_renovated</th>\n",
       "      <th>zipcode</th>\n",
       "      <th>lat</th>\n",
       "      <th>long</th>\n",
       "      <th>sqft_living15</th>\n",
       "      <th>sqft_lot15</th>\n",
       "    </tr>\n",
       "  </thead>\n",
       "  <tbody>\n",
       "    <tr>\n",
       "      <th>0</th>\n",
       "      <td>7129300520</td>\n",
       "      <td>20141013T000000</td>\n",
       "      <td>221900.0</td>\n",
       "      <td>3</td>\n",
       "      <td>1.00</td>\n",
       "      <td>1180</td>\n",
       "      <td>5650</td>\n",
       "      <td>1.0</td>\n",
       "      <td>0</td>\n",
       "      <td>0</td>\n",
       "      <td>...</td>\n",
       "      <td>7</td>\n",
       "      <td>1180.0</td>\n",
       "      <td>0</td>\n",
       "      <td>1955</td>\n",
       "      <td>0</td>\n",
       "      <td>98178</td>\n",
       "      <td>47.5112</td>\n",
       "      <td>-122.257</td>\n",
       "      <td>1340</td>\n",
       "      <td>5650</td>\n",
       "    </tr>\n",
       "    <tr>\n",
       "      <th>1</th>\n",
       "      <td>6414100192</td>\n",
       "      <td>20141209T000000</td>\n",
       "      <td>538000.0</td>\n",
       "      <td>3</td>\n",
       "      <td>2.25</td>\n",
       "      <td>2570</td>\n",
       "      <td>7242</td>\n",
       "      <td>2.0</td>\n",
       "      <td>0</td>\n",
       "      <td>0</td>\n",
       "      <td>...</td>\n",
       "      <td>7</td>\n",
       "      <td>2170.0</td>\n",
       "      <td>400</td>\n",
       "      <td>1951</td>\n",
       "      <td>1991</td>\n",
       "      <td>98125</td>\n",
       "      <td>47.7210</td>\n",
       "      <td>-122.319</td>\n",
       "      <td>1690</td>\n",
       "      <td>7639</td>\n",
       "    </tr>\n",
       "    <tr>\n",
       "      <th>2</th>\n",
       "      <td>5631500400</td>\n",
       "      <td>20150225T000000</td>\n",
       "      <td>180000.0</td>\n",
       "      <td>2</td>\n",
       "      <td>1.00</td>\n",
       "      <td>770</td>\n",
       "      <td>10000</td>\n",
       "      <td>1.0</td>\n",
       "      <td>0</td>\n",
       "      <td>0</td>\n",
       "      <td>...</td>\n",
       "      <td>6</td>\n",
       "      <td>770.0</td>\n",
       "      <td>0</td>\n",
       "      <td>1933</td>\n",
       "      <td>0</td>\n",
       "      <td>98028</td>\n",
       "      <td>47.7379</td>\n",
       "      <td>-122.233</td>\n",
       "      <td>2720</td>\n",
       "      <td>8062</td>\n",
       "    </tr>\n",
       "    <tr>\n",
       "      <th>3</th>\n",
       "      <td>2487200875</td>\n",
       "      <td>20141209T000000</td>\n",
       "      <td>604000.0</td>\n",
       "      <td>4</td>\n",
       "      <td>3.00</td>\n",
       "      <td>1960</td>\n",
       "      <td>5000</td>\n",
       "      <td>1.0</td>\n",
       "      <td>0</td>\n",
       "      <td>0</td>\n",
       "      <td>...</td>\n",
       "      <td>7</td>\n",
       "      <td>1050.0</td>\n",
       "      <td>910</td>\n",
       "      <td>1965</td>\n",
       "      <td>0</td>\n",
       "      <td>98136</td>\n",
       "      <td>47.5208</td>\n",
       "      <td>-122.393</td>\n",
       "      <td>1360</td>\n",
       "      <td>5000</td>\n",
       "    </tr>\n",
       "    <tr>\n",
       "      <th>4</th>\n",
       "      <td>1954400510</td>\n",
       "      <td>20150218T000000</td>\n",
       "      <td>510000.0</td>\n",
       "      <td>3</td>\n",
       "      <td>2.00</td>\n",
       "      <td>1680</td>\n",
       "      <td>8080</td>\n",
       "      <td>1.0</td>\n",
       "      <td>0</td>\n",
       "      <td>0</td>\n",
       "      <td>...</td>\n",
       "      <td>8</td>\n",
       "      <td>1680.0</td>\n",
       "      <td>0</td>\n",
       "      <td>1987</td>\n",
       "      <td>0</td>\n",
       "      <td>98074</td>\n",
       "      <td>47.6168</td>\n",
       "      <td>-122.045</td>\n",
       "      <td>1800</td>\n",
       "      <td>7503</td>\n",
       "    </tr>\n",
       "  </tbody>\n",
       "</table>\n",
       "<p>5 rows × 21 columns</p>\n",
       "</div>"
      ],
      "text/plain": [
       "           id             date     price  bedrooms  bathrooms  sqft_living  \\\n",
       "0  7129300520  20141013T000000  221900.0         3       1.00         1180   \n",
       "1  6414100192  20141209T000000  538000.0         3       2.25         2570   \n",
       "2  5631500400  20150225T000000  180000.0         2       1.00          770   \n",
       "3  2487200875  20141209T000000  604000.0         4       3.00         1960   \n",
       "4  1954400510  20150218T000000  510000.0         3       2.00         1680   \n",
       "\n",
       "   sqft_lot  floors  waterfront  view  ...  grade  sqft_above  sqft_basement  \\\n",
       "0      5650     1.0           0     0  ...      7      1180.0              0   \n",
       "1      7242     2.0           0     0  ...      7      2170.0            400   \n",
       "2     10000     1.0           0     0  ...      6       770.0              0   \n",
       "3      5000     1.0           0     0  ...      7      1050.0            910   \n",
       "4      8080     1.0           0     0  ...      8      1680.0              0   \n",
       "\n",
       "   yr_built  yr_renovated  zipcode      lat     long  sqft_living15  \\\n",
       "0      1955             0    98178  47.5112 -122.257           1340   \n",
       "1      1951          1991    98125  47.7210 -122.319           1690   \n",
       "2      1933             0    98028  47.7379 -122.233           2720   \n",
       "3      1965             0    98136  47.5208 -122.393           1360   \n",
       "4      1987             0    98074  47.6168 -122.045           1800   \n",
       "\n",
       "   sqft_lot15  \n",
       "0        5650  \n",
       "1        7639  \n",
       "2        8062  \n",
       "3        5000  \n",
       "4        7503  \n",
       "\n",
       "[5 rows x 21 columns]"
      ]
     },
     "execution_count": 31,
     "metadata": {},
     "output_type": "execute_result"
    }
   ],
   "source": [
    "kc = pd.read_csv(\"kc_house_data.csv\")\n",
    "kc.head()"
   ]
  },
  {
   "cell_type": "markdown",
   "id": "charitable-sperm",
   "metadata": {},
   "source": [
    "### Creating Cost Functions"
   ]
  },
  {
   "cell_type": "code",
   "execution_count": 32,
   "id": "refined-assistant",
   "metadata": {},
   "outputs": [],
   "source": [
    "def linear_cost(X, y, theta): \n",
    "    h = X @ theta\n",
    "    return ((y-h)**2).sum() / (2 * len(X))"
   ]
  },
  {
   "cell_type": "code",
   "execution_count": 33,
   "id": "instrumental-burton",
   "metadata": {},
   "outputs": [],
   "source": [
    "def linear_cost_gradient(X, y, theta): \n",
    "    h = X @ theta\n",
    "    return (X.T @ (h-y))/ len(X)"
   ]
  },
  {
   "cell_type": "code",
   "execution_count": 34,
   "id": "regional-fighter",
   "metadata": {},
   "outputs": [],
   "source": [
    "def gradient_descent(\n",
    "X,y,theta_0,linear_cost,linear_cost_gradient,\n",
    "    learning_rate = 0.0001, threshold=0.001, max_iter=10000): \n",
    "    \n",
    "    theta = theta_0\n",
    "    iteration = 0 \n",
    "    costs = []\n",
    "    thetas = []\n",
    "    \n",
    "    while np.linalg.norm(linear_cost_gradient(X,y,theta)) > threshold and iteration < max_iter:\n",
    "        iteration += 1 \n",
    "        theta = theta - (learning_rate * linear_cost_gradient(X,y,theta))\n",
    "        costs.append(linear_cost(X,y,theta))\n",
    "        thetas.append(theta.copy())\n",
    "        \n",
    "    return theta, costs, thetas"
   ]
  },
  {
   "cell_type": "markdown",
   "id": "existing-sleeve",
   "metadata": {},
   "source": [
    "### Splitting X and Y, adding constant column and polinomical varible"
   ]
  },
  {
   "cell_type": "code",
   "execution_count": 35,
   "id": "arranged-outdoors",
   "metadata": {},
   "outputs": [],
   "source": [
    "kc['sqft_living2'] = kc['sqft_living'] ** 2\n",
    "kc['cons'] = 1"
   ]
  },
  {
   "cell_type": "code",
   "execution_count": 36,
   "id": "applied-hello",
   "metadata": {},
   "outputs": [],
   "source": [
    "y2 = kc['price'].to_numpy()\n",
    "X2 = kc[['cons','sqft_living','sqft_living2']].to_numpy()"
   ]
  },
  {
   "cell_type": "code",
   "execution_count": 37,
   "id": "helpful-selling",
   "metadata": {},
   "outputs": [
    {
     "name": "stdout",
     "output_type": "stream",
     "text": [
      "(21613,) (21613, 3)\n"
     ]
    }
   ],
   "source": [
    "print(y2.shape, X2.shape)"
   ]
  },
  {
   "cell_type": "markdown",
   "id": "australian-great",
   "metadata": {},
   "source": [
    "### Creating Tethas Array"
   ]
  },
  {
   "cell_type": "code",
   "execution_count": 38,
   "id": "composite-caution",
   "metadata": {},
   "outputs": [],
   "source": [
    "m,n = X2.shape"
   ]
  },
  {
   "cell_type": "code",
   "execution_count": 39,
   "id": "racial-challenge",
   "metadata": {},
   "outputs": [
    {
     "name": "stdout",
     "output_type": "stream",
     "text": [
      "(3, 1)\n"
     ]
    }
   ],
   "source": [
    "theta_0 = np.random.rand(n,1)\n",
    "print(theta_0.shape)"
   ]
  },
  {
   "cell_type": "markdown",
   "id": "crucial-resident",
   "metadata": {},
   "source": [
    "### Shuffle data for Cross-Validation"
   ]
  },
  {
   "cell_type": "code",
   "execution_count": 40,
   "id": "convertible-edward",
   "metadata": {},
   "outputs": [],
   "source": [
    "np.random.shuffle(X2)\n",
    "np.random.shuffle(y2)"
   ]
  },
  {
   "cell_type": "code",
   "execution_count": 41,
   "id": "urban-aggregate",
   "metadata": {},
   "outputs": [
    {
     "name": "stdout",
     "output_type": "stream",
     "text": [
      "(12968, 3) (4322, 3) (4323, 3)\n"
     ]
    }
   ],
   "source": [
    "X_train = X2[:12968] #60%\n",
    "X_cv = X2[12968:17290] #20%\n",
    "X_test = X2[17290:21613] #20%\n",
    "print(X_train.shape, X_cv.shape, X_test.shape)"
   ]
  },
  {
   "cell_type": "code",
   "execution_count": 42,
   "id": "consolidated-approval",
   "metadata": {},
   "outputs": [
    {
     "name": "stdout",
     "output_type": "stream",
     "text": [
      "(12968,) (4322,) (4323,)\n"
     ]
    }
   ],
   "source": [
    "y_train = y2[:12968] #60%\n",
    "y_cv = y2[12968:17290] #20%\n",
    "y_test = y2[17290:21613] #20%\n",
    "print(y_train.shape, y_cv.shape, y_test.shape)"
   ]
  },
  {
   "cell_type": "markdown",
   "id": "alleged-circumstances",
   "metadata": {},
   "source": [
    "### Polynomial Reggresion, 2nd Order"
   ]
  },
  {
   "cell_type": "code",
   "execution_count": null,
   "id": "canadian-prerequisite",
   "metadata": {},
   "outputs": [],
   "source": [
    "theta2, costs2, thetas2 = gradient_descent(X_train,y_train,theta_0,linear_cost,linear_cost_gradient,0.00000000001,0.0001,50)"
   ]
  },
  {
   "cell_type": "code",
   "execution_count": null,
   "id": "driving-average",
   "metadata": {},
   "outputs": [],
   "source": [
    "plt.plot(costs)"
   ]
  },
  {
   "cell_type": "code",
   "execution_count": null,
   "id": "egyptian-victorian",
   "metadata": {},
   "outputs": [],
   "source": [
    "print(\"El costo minimo (Polinomio Grado 2) es de:\",costs[len(costs)-1])"
   ]
  },
  {
   "cell_type": "markdown",
   "id": "intensive-baltimore",
   "metadata": {},
   "source": [
    "### Polynomial Reggresion, 3rd Order"
   ]
  },
  {
   "cell_type": "code",
   "execution_count": null,
   "id": "rapid-market",
   "metadata": {},
   "outputs": [],
   "source": [
    "kc['sqft_living3'] = kc['sqft_living'] ** 3"
   ]
  },
  {
   "cell_type": "code",
   "execution_count": null,
   "id": "assigned-purple",
   "metadata": {},
   "outputs": [],
   "source": [
    "y3 = kc['price'].to_numpy()\n",
    "X3 = kc[['cons','sqft_living','sqft_living2','sqft_living3']].to_numpy()"
   ]
  },
  {
   "cell_type": "code",
   "execution_count": null,
   "id": "mathematical-birth",
   "metadata": {},
   "outputs": [],
   "source": [
    "m,n = X3.shape\n",
    "theta_0 = np.random.rand(n,1)\n",
    "print(theta_0.shape)"
   ]
  },
  {
   "cell_type": "code",
   "execution_count": null,
   "id": "greenhouse-christian",
   "metadata": {},
   "outputs": [],
   "source": [
    "np.random.shuffle(X3)\n",
    "np.random.shuffle(y3)"
   ]
  },
  {
   "cell_type": "code",
   "execution_count": null,
   "id": "continued-intention",
   "metadata": {},
   "outputs": [],
   "source": [
    "X_train = X3[:12968] #60%\n",
    "X_cv = X3[12968:17290] #20%\n",
    "X_test = X3[17290:21613] #20%\n",
    "print(X_train.shape, X_cv.shape, X_test.shape)"
   ]
  },
  {
   "cell_type": "code",
   "execution_count": null,
   "id": "acoustic-morris",
   "metadata": {},
   "outputs": [],
   "source": [
    "y_train = y3[:12968] #60%\n",
    "y_cv = y3[12968:17290] #20%\n",
    "y_test = y3[17290:21613] #20%\n",
    "print(y_train.shape, y_cv.shape, y_test.shape)"
   ]
  },
  {
   "cell_type": "code",
   "execution_count": null,
   "id": "enhanced-evaluation",
   "metadata": {},
   "outputs": [],
   "source": [
    "theta3, costs3, thetas3 = gradient_descent(X_train,y_train,theta_0,linear_cost,linear_cost_gradient,0.00000000000000001,0.0000001,1000)"
   ]
  },
  {
   "cell_type": "code",
   "execution_count": null,
   "id": "grand-cholesterol",
   "metadata": {},
   "outputs": [],
   "source": [
    "plt.plot(costs)"
   ]
  },
  {
   "cell_type": "code",
   "execution_count": null,
   "id": "contemporary-dakota",
   "metadata": {},
   "outputs": [],
   "source": [
    "print(\"El costo minimo (Polinomio Grado 3) es de:\",costs[len(costs)-1])"
   ]
  },
  {
   "cell_type": "markdown",
   "id": "mechanical-locator",
   "metadata": {},
   "source": [
    "### Polynomial Reggresion, 4th Order"
   ]
  },
  {
   "cell_type": "code",
   "execution_count": null,
   "id": "printable-implement",
   "metadata": {},
   "outputs": [],
   "source": [
    "kc['sqft_living4'] = kc['sqft_living'] ** 4"
   ]
  },
  {
   "cell_type": "code",
   "execution_count": null,
   "id": "lonely-weekend",
   "metadata": {},
   "outputs": [],
   "source": [
    "y4 = kc['price'].to_numpy()\n",
    "X4 = kc[['cons','sqft_living','sqft_living2','sqft_living3','sqft_living4']].to_numpy()"
   ]
  },
  {
   "cell_type": "code",
   "execution_count": null,
   "id": "reliable-group",
   "metadata": {},
   "outputs": [],
   "source": [
    "m,n = X4.shape\n",
    "theta_0 = np.random.rand(n,1)\n",
    "print(theta_0.shape)"
   ]
  },
  {
   "cell_type": "code",
   "execution_count": null,
   "id": "flying-saying",
   "metadata": {},
   "outputs": [],
   "source": [
    "np.random.shuffle(X4)\n",
    "np.random.shuffle(y4)"
   ]
  },
  {
   "cell_type": "code",
   "execution_count": null,
   "id": "previous-singer",
   "metadata": {},
   "outputs": [],
   "source": [
    "X_train = X4[:12968] #60%\n",
    "X_cv = X4[12968:17290] #20%\n",
    "X_test = X4[17290:21613] #20%\n",
    "print(X_train.shape, X_cv.shape, X_test.shape)"
   ]
  },
  {
   "cell_type": "code",
   "execution_count": null,
   "id": "compact-motivation",
   "metadata": {},
   "outputs": [],
   "source": [
    "y_train = y4[:12968] #60%\n",
    "y_cv = y4[12968:17290] #20%\n",
    "y_test = y4[17290:21613] #20%\n",
    "print(y_train.shape, y_cv.shape, y_test.shape)"
   ]
  },
  {
   "cell_type": "code",
   "execution_count": null,
   "id": "piano-telephone",
   "metadata": {},
   "outputs": [],
   "source": [
    "theta4, costs4, thetas4 = gradient_descent(X_train,y_train,theta_0,linear_cost,linear_cost_gradient,0.00000000000001,0.0001,1000)"
   ]
  },
  {
   "cell_type": "code",
   "execution_count": null,
   "id": "photographic-lottery",
   "metadata": {},
   "outputs": [],
   "source": [
    "plt.plot(costs)"
   ]
  },
  {
   "cell_type": "code",
   "execution_count": null,
   "id": "functioning-editor",
   "metadata": {},
   "outputs": [],
   "source": [
    "print(\"El costo minimo (Polinomio Grado 4) es de:\",costs[len(costs)-1])"
   ]
  },
  {
   "cell_type": "markdown",
   "id": "loved-moral",
   "metadata": {},
   "source": [
    "### Polynomial Reggresion, 5th Order"
   ]
  },
  {
   "cell_type": "code",
   "execution_count": null,
   "id": "motivated-sugar",
   "metadata": {},
   "outputs": [],
   "source": [
    "kc['sqft_living5'] = kc['sqft_living'] ** 5"
   ]
  },
  {
   "cell_type": "code",
   "execution_count": null,
   "id": "announced-characteristic",
   "metadata": {},
   "outputs": [],
   "source": [
    "y5 = kc['price'].to_numpy()\n",
    "X5 = kc[['cons','sqft_living','sqft_living2','sqft_living3','sqft_living4','sqft_living5']].to_numpy()"
   ]
  },
  {
   "cell_type": "code",
   "execution_count": null,
   "id": "worthy-speed",
   "metadata": {},
   "outputs": [],
   "source": [
    "m,n = X5.shape\n",
    "theta_0 = np.random.rand(n,1)\n",
    "print(theta_0.shape)"
   ]
  },
  {
   "cell_type": "code",
   "execution_count": null,
   "id": "complicated-tampa",
   "metadata": {},
   "outputs": [],
   "source": [
    "np.random.shuffle(X5)\n",
    "np.random.shuffle(y5)"
   ]
  },
  {
   "cell_type": "code",
   "execution_count": null,
   "id": "armed-specification",
   "metadata": {},
   "outputs": [],
   "source": [
    "X_train = X5[:12968] #60%\n",
    "X_cv = X5[12968:17290] #20%\n",
    "X_test = X5[17290:21613] #20%\n",
    "print(X_train.shape, X_cv.shape, X_test.shape)"
   ]
  },
  {
   "cell_type": "code",
   "execution_count": null,
   "id": "elder-rhythm",
   "metadata": {},
   "outputs": [],
   "source": [
    "y_train = y5[:12968] #60%\n",
    "y_cv = y5[12968:17290] #20%\n",
    "y_test = y5[17290:21613] #20%\n",
    "print(y_train.shape, y_cv.shape, y_test.shape)"
   ]
  },
  {
   "cell_type": "code",
   "execution_count": null,
   "id": "minute-jacksonville",
   "metadata": {},
   "outputs": [],
   "source": [
    "theta5, costs5, thetas5 = gradient_descent(X_train,y_train,theta_0,linear_cost,linear_cost_gradient,0.000000000000001,0.0001,1000)"
   ]
  },
  {
   "cell_type": "code",
   "execution_count": null,
   "id": "global-jewelry",
   "metadata": {},
   "outputs": [],
   "source": [
    "plt.plot(costs)"
   ]
  },
  {
   "cell_type": "code",
   "execution_count": null,
   "id": "painted-study",
   "metadata": {},
   "outputs": [],
   "source": [
    "print(\"El costo minimo (Polinomio Grado 5) es de:\",costs[len(costs)-1])"
   ]
  },
  {
   "cell_type": "code",
   "execution_count": null,
   "id": "frequent-quality",
   "metadata": {},
   "outputs": [],
   "source": []
  }
 ],
 "metadata": {
  "kernelspec": {
   "display_name": "venvL4",
   "language": "python",
   "name": "venvl4"
  },
  "language_info": {
   "codemirror_mode": {
    "name": "ipython",
    "version": 3
   },
   "file_extension": ".py",
   "mimetype": "text/x-python",
   "name": "python",
   "nbconvert_exporter": "python",
   "pygments_lexer": "ipython3",
   "version": "3.9.1"
  }
 },
 "nbformat": 4,
 "nbformat_minor": 5
}
